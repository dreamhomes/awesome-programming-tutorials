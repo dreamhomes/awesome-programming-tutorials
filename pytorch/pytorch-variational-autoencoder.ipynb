{
 "cells": [
  {
   "cell_type": "markdown",
   "metadata": {},
   "source": [
    "## PyTorch 实现变分自编码器 VAE\n",
    "理论部分参考：[自编码器变形和变分自编码器理论介绍及其 PyTorch 实现](https://dreamhomes.github.io/posts/202006021200.html)"
   ]
  },
  {
   "cell_type": "code",
   "execution_count": 1,
   "metadata": {},
   "outputs": [
    {
     "name": "stdout",
     "output_type": "stream",
     "text": [
      "1.5.0\n"
     ]
    }
   ],
   "source": [
    "import os\n",
    "\n",
    "import numpy as np\n",
    "from sklearn import svm\n",
    "from sklearn.model_selection import GridSearchCV\n",
    "\n",
    "import torch\n",
    "import torch.nn as nn\n",
    "import torch.nn.functional as F\n",
    "import torchvision\n",
    "from torchvision.utils import save_image\n",
    "\n",
    "print(torch.__version__)"
   ]
  },
  {
   "cell_type": "code",
   "execution_count": 2,
   "metadata": {},
   "outputs": [],
   "source": [
    "# 参数设置\n",
    "\n",
    "# Create a directory if not exists\n",
    "output_dir = 'output'\n",
    "if not os.path.exists(output_dir):\n",
    "    os.makedirs(output_dir)\n",
    "\n",
    "# Device configuration\n",
    "device = torch.device('cuda' if torch.cuda.is_available() else 'cpu')\n",
    "\n",
    "# Hyper-parameters\n",
    "image_size = 28*28\n",
    "h_dim = 400\n",
    "z_dim = 20\n",
    "num_epochs = 20\n",
    "batch_size = 64\n",
    "learning_rate = 1e-3"
   ]
  },
  {
   "cell_type": "markdown",
   "metadata": {},
   "source": [
    "## Mnist dataset"
   ]
  },
  {
   "cell_type": "code",
   "execution_count": 3,
   "metadata": {},
   "outputs": [],
   "source": [
    "# Mnist dataset\n",
    "dataset = torchvision.datasets.MNIST(root='./data/mnist/',\n",
    "                                     train=True,\n",
    "                                     transform=torchvision.transforms.ToTensor(),\n",
    "                                     download=True)\n",
    "\n",
    "# Data loader\n",
    "data_loader = torch.utils.data.DataLoader(dataset=dataset,\n",
    "                                          batch_size=batch_size, \n",
    "                                          shuffle=True,\n",
    "                                          num_workers=0)"
   ]
  },
  {
   "cell_type": "markdown",
   "metadata": {},
   "source": [
    "## Model"
   ]
  },
  {
   "cell_type": "code",
   "execution_count": 4,
   "metadata": {},
   "outputs": [],
   "source": [
    "# VAE model\n",
    "class VAE(nn.Module):\n",
    "    def __init__(self, image_size=784, h_dim=400, z_dim=20):\n",
    "        super(VAE, self).__init__()\n",
    "        self.fc1 = nn.Linear(image_size, h_dim)\n",
    "        self.fc2 = nn.Linear(h_dim, z_dim)\n",
    "        self.fc3 = nn.Linear(h_dim, z_dim)\n",
    "        self.fc4 = nn.Linear(z_dim, h_dim)\n",
    "        self.fc5 = nn.Linear(h_dim, image_size)\n",
    "        \n",
    "    def encode(self, x):\n",
    "        h = F.relu(self.fc1(x))\n",
    "        return self.fc2(h), self.fc3(h)\n",
    "    \n",
    "    # 重参数\n",
    "    def reparameterize(self, mu, log_var):\n",
    "        std = torch.exp(log_var/2)\n",
    "        eps = torch.randn_like(std)\n",
    "        return mu + eps * std\n",
    "\n",
    "    def decode(self, z):\n",
    "        h = F.relu(self.fc4(z))\n",
    "        return F.sigmoid(self.fc5(h))\n",
    "    \n",
    "    def forward(self, x):\n",
    "        mu, log_var = self.encode(x)\n",
    "        z = self.reparameterize(mu, log_var)\n",
    "        x_reconst = self.decode(z)\n",
    "        return x_reconst, mu, log_var\n",
    "\n",
    "model = VAE().to(device)"
   ]
  },
  {
   "cell_type": "markdown",
   "metadata": {},
   "source": [
    "### Train"
   ]
  },
  {
   "cell_type": "code",
   "execution_count": 5,
   "metadata": {},
   "outputs": [
    {
     "name": "stderr",
     "output_type": "stream",
     "text": [
      "D:\\DevTools\\Miniconda3\\lib\\site-packages\\torch\\nn\\functional.py:1569: UserWarning: nn.functional.sigmoid is deprecated. Use torch.sigmoid instead.\n",
      "  warnings.warn(\"nn.functional.sigmoid is deprecated. Use torch.sigmoid instead.\")\n",
      "D:\\DevTools\\Miniconda3\\lib\\site-packages\\torch\\nn\\_reduction.py:43: UserWarning: size_average and reduce args will be deprecated, please use reduction='sum' instead.\n",
      "  warnings.warn(warning.format(ret))\n"
     ]
    },
    {
     "name": "stdout",
     "output_type": "stream",
     "text": [
      "Epoch[1/20], Step [200/938], Reconst Loss: 8821.7510, KL Div: 891.5093\n",
      "Epoch[1/20], Step [400/938], Reconst Loss: 7804.7573, KL Div: 1056.6965\n",
      "Epoch[1/20], Step [600/938], Reconst Loss: 6771.7695, KL Div: 1316.7372\n",
      "Epoch[1/20], Step [800/938], Reconst Loss: 6485.7046, KL Div: 1353.1658\n",
      "Epoch[2/20], Step [200/938], Reconst Loss: 6101.1880, KL Div: 1499.0868\n",
      "Epoch[2/20], Step [400/938], Reconst Loss: 6246.6777, KL Div: 1568.8821\n",
      "Epoch[2/20], Step [600/938], Reconst Loss: 5953.7402, KL Div: 1547.8967\n",
      "Epoch[2/20], Step [800/938], Reconst Loss: 5708.8115, KL Div: 1573.6791\n",
      "Epoch[3/20], Step [200/938], Reconst Loss: 5529.4912, KL Div: 1565.7269\n",
      "Epoch[3/20], Step [400/938], Reconst Loss: 5354.6104, KL Div: 1531.8453\n",
      "Epoch[3/20], Step [600/938], Reconst Loss: 5838.3325, KL Div: 1591.4172\n",
      "Epoch[3/20], Step [800/938], Reconst Loss: 5333.0142, KL Div: 1538.3901\n",
      "Epoch[4/20], Step [200/938], Reconst Loss: 5248.3931, KL Div: 1564.2769\n",
      "Epoch[4/20], Step [400/938], Reconst Loss: 5570.7324, KL Div: 1585.7465\n",
      "Epoch[4/20], Step [600/938], Reconst Loss: 5541.1450, KL Div: 1588.2228\n",
      "Epoch[4/20], Step [800/938], Reconst Loss: 5578.6855, KL Div: 1613.7084\n",
      "Epoch[5/20], Step [200/938], Reconst Loss: 5296.5244, KL Div: 1613.5701\n",
      "Epoch[5/20], Step [400/938], Reconst Loss: 5496.8071, KL Div: 1703.9668\n",
      "Epoch[5/20], Step [600/938], Reconst Loss: 5294.0947, KL Div: 1590.8495\n",
      "Epoch[5/20], Step [800/938], Reconst Loss: 5382.1768, KL Div: 1663.8147\n",
      "Epoch[6/20], Step [200/938], Reconst Loss: 4840.3613, KL Div: 1568.2205\n",
      "Epoch[6/20], Step [400/938], Reconst Loss: 5267.7266, KL Div: 1594.9216\n",
      "Epoch[6/20], Step [600/938], Reconst Loss: 5267.9512, KL Div: 1615.5175\n",
      "Epoch[6/20], Step [800/938], Reconst Loss: 5163.6353, KL Div: 1626.8712\n",
      "Epoch[7/20], Step [200/938], Reconst Loss: 5131.9307, KL Div: 1614.1090\n",
      "Epoch[7/20], Step [400/938], Reconst Loss: 5394.6606, KL Div: 1610.5308\n",
      "Epoch[7/20], Step [600/938], Reconst Loss: 4930.4233, KL Div: 1597.5652\n",
      "Epoch[7/20], Step [800/938], Reconst Loss: 5057.6475, KL Div: 1642.3674\n",
      "Epoch[8/20], Step [200/938], Reconst Loss: 5127.7720, KL Div: 1623.3295\n",
      "Epoch[8/20], Step [400/938], Reconst Loss: 5234.5508, KL Div: 1587.9474\n",
      "Epoch[8/20], Step [600/938], Reconst Loss: 4998.9844, KL Div: 1665.8306\n",
      "Epoch[8/20], Step [800/938], Reconst Loss: 5458.0049, KL Div: 1614.5056\n",
      "Epoch[9/20], Step [200/938], Reconst Loss: 4860.1602, KL Div: 1582.7986\n",
      "Epoch[9/20], Step [400/938], Reconst Loss: 5212.8770, KL Div: 1625.3943\n",
      "Epoch[9/20], Step [600/938], Reconst Loss: 5364.9639, KL Div: 1648.4307\n",
      "Epoch[9/20], Step [800/938], Reconst Loss: 5180.0693, KL Div: 1601.2921\n",
      "Epoch[10/20], Step [200/938], Reconst Loss: 5072.3623, KL Div: 1696.7477\n",
      "Epoch[10/20], Step [400/938], Reconst Loss: 5079.3496, KL Div: 1587.6580\n",
      "Epoch[10/20], Step [600/938], Reconst Loss: 5288.3301, KL Div: 1623.0553\n",
      "Epoch[10/20], Step [800/938], Reconst Loss: 4979.6504, KL Div: 1619.4666\n",
      "Epoch[11/20], Step [200/938], Reconst Loss: 5169.4565, KL Div: 1609.8174\n",
      "Epoch[11/20], Step [400/938], Reconst Loss: 4669.9165, KL Div: 1483.2451\n",
      "Epoch[11/20], Step [600/938], Reconst Loss: 4820.9253, KL Div: 1560.7177\n",
      "Epoch[11/20], Step [800/938], Reconst Loss: 5280.7993, KL Div: 1634.7827\n",
      "Epoch[12/20], Step [200/938], Reconst Loss: 5403.3730, KL Div: 1629.0796\n",
      "Epoch[12/20], Step [400/938], Reconst Loss: 5159.6133, KL Div: 1626.9481\n",
      "Epoch[12/20], Step [600/938], Reconst Loss: 5131.6431, KL Div: 1624.3120\n",
      "Epoch[12/20], Step [800/938], Reconst Loss: 5369.7773, KL Div: 1671.3412\n",
      "Epoch[13/20], Step [200/938], Reconst Loss: 5176.7529, KL Div: 1648.9404\n",
      "Epoch[13/20], Step [400/938], Reconst Loss: 4812.7012, KL Div: 1643.3511\n",
      "Epoch[13/20], Step [600/938], Reconst Loss: 4913.4141, KL Div: 1622.6749\n",
      "Epoch[13/20], Step [800/938], Reconst Loss: 5475.0430, KL Div: 1669.7385\n",
      "Epoch[14/20], Step [200/938], Reconst Loss: 5129.3794, KL Div: 1611.5393\n",
      "Epoch[14/20], Step [400/938], Reconst Loss: 5392.4824, KL Div: 1631.5908\n",
      "Epoch[14/20], Step [600/938], Reconst Loss: 5407.2119, KL Div: 1685.3030\n",
      "Epoch[14/20], Step [800/938], Reconst Loss: 5304.2339, KL Div: 1629.8799\n",
      "Epoch[15/20], Step [200/938], Reconst Loss: 4970.7695, KL Div: 1618.2458\n",
      "Epoch[15/20], Step [400/938], Reconst Loss: 4955.7534, KL Div: 1647.3304\n",
      "Epoch[15/20], Step [600/938], Reconst Loss: 5087.1221, KL Div: 1630.1772\n",
      "Epoch[15/20], Step [800/938], Reconst Loss: 4887.8276, KL Div: 1642.6343\n",
      "Epoch[16/20], Step [200/938], Reconst Loss: 5197.2671, KL Div: 1654.7321\n",
      "Epoch[16/20], Step [400/938], Reconst Loss: 5140.9810, KL Div: 1715.5021\n",
      "Epoch[16/20], Step [600/938], Reconst Loss: 4956.7236, KL Div: 1633.5787\n",
      "Epoch[16/20], Step [800/938], Reconst Loss: 5200.1143, KL Div: 1642.3628\n",
      "Epoch[17/20], Step [200/938], Reconst Loss: 4915.5347, KL Div: 1606.8401\n",
      "Epoch[17/20], Step [400/938], Reconst Loss: 5133.4678, KL Div: 1661.3538\n",
      "Epoch[17/20], Step [600/938], Reconst Loss: 5195.7437, KL Div: 1672.9617\n",
      "Epoch[17/20], Step [800/938], Reconst Loss: 5125.1709, KL Div: 1649.5951\n",
      "Epoch[18/20], Step [200/938], Reconst Loss: 4777.3008, KL Div: 1649.9351\n",
      "Epoch[18/20], Step [400/938], Reconst Loss: 5086.7646, KL Div: 1634.0807\n",
      "Epoch[18/20], Step [600/938], Reconst Loss: 4745.3950, KL Div: 1622.7368\n",
      "Epoch[18/20], Step [800/938], Reconst Loss: 5052.2012, KL Div: 1700.1626\n",
      "Epoch[19/20], Step [200/938], Reconst Loss: 5130.7241, KL Div: 1607.4552\n",
      "Epoch[19/20], Step [400/938], Reconst Loss: 4775.7217, KL Div: 1554.7137\n",
      "Epoch[19/20], Step [600/938], Reconst Loss: 5161.8921, KL Div: 1705.4052\n",
      "Epoch[19/20], Step [800/938], Reconst Loss: 5058.7383, KL Div: 1602.5743\n",
      "Epoch[20/20], Step [200/938], Reconst Loss: 4987.7900, KL Div: 1686.6725\n",
      "Epoch[20/20], Step [400/938], Reconst Loss: 4867.7568, KL Div: 1562.0087\n",
      "Epoch[20/20], Step [600/938], Reconst Loss: 5235.1201, KL Div: 1614.5458\n",
      "Epoch[20/20], Step [800/938], Reconst Loss: 5086.0859, KL Div: 1689.8508\n"
     ]
    }
   ],
   "source": [
    "optimizer = torch.optim.Adam(model.parameters(), lr=learning_rate)\n",
    "\n",
    "# Start training\n",
    "for epoch in range(num_epochs):\n",
    "    for i, (x, _) in enumerate(data_loader):\n",
    "        # Forward pass\n",
    "        x = x.to(device).view(-1, image_size)\n",
    "        x_reconst, mu, log_var = model(x)\n",
    "        \n",
    "        # Compute reconstruction loss and kl divergence\n",
    "        # For KL divergence, see Appendix B in VAE paper or http://yunjey47.tistory.com/43\n",
    "        reconst_loss = F.binary_cross_entropy(x_reconst, x, size_average=False)\n",
    "        kl_div = - 0.5 * torch.sum(1 + log_var - mu.pow(2) - log_var.exp())\n",
    "        \n",
    "        # Backprop and optimize\n",
    "        loss = reconst_loss + kl_div\n",
    "        optimizer.zero_grad()\n",
    "        loss.backward()\n",
    "        optimizer.step()\n",
    "        \n",
    "        if (i+1) % 200 == 0:\n",
    "            print (\"Epoch[{}/{}], Step [{}/{}], Reconst Loss: {:.4f}, KL Div: {:.4f}\" \n",
    "                   .format(epoch+1, num_epochs, i+1, len(data_loader), reconst_loss.item(), kl_div.item()))\n",
    "    \n",
    "    with torch.no_grad():\n",
    "        # Save the sampled images\n",
    "        z = torch.randn(batch_size, z_dim).to(device)\n",
    "        out = model.decode(z).view(-1, 1, 28, 28)\n",
    "        save_image(out, os.path.join(output_dir, 'sampled-{}.png'.format(epoch+1)))\n",
    "\n",
    "        # Save the reconstructed images\n",
    "        out, _, _ = model(x)\n",
    "        x_concat = torch.cat([x.view(-1, 1, 28, 28), out.view(-1, 1, 28, 28)], dim=3)\n",
    "        save_image(x_concat, os.path.join(output_dir, 'reconst-{}.png'.format(epoch+1)))"
   ]
  }
 ],
 "metadata": {
  "kernelspec": {
   "display_name": "Python 3",
   "language": "python",
   "name": "python3"
  },
  "language_info": {
   "codemirror_mode": {
    "name": "ipython",
    "version": 3
   },
   "file_extension": ".py",
   "mimetype": "text/x-python",
   "name": "python",
   "nbconvert_exporter": "python",
   "pygments_lexer": "ipython3",
   "version": "3.7.6"
  }
 },
 "nbformat": 4,
 "nbformat_minor": 4
}
